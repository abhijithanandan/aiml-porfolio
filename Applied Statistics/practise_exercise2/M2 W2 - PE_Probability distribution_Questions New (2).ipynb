{
 "cells": [
  {
   "cell_type": "markdown",
   "metadata": {},
   "source": [
    "# 1.You flip a fair coin 10 times. What is the probability of getting 8 or more heads? "
   ]
  },
  {
   "cell_type": "code",
   "execution_count": 5,
   "metadata": {},
   "outputs": [],
   "source": [
    "import numpy as np\n",
    "import scipy.stats as stats\n",
    "import matplotlib.pyplot as plt\n",
    "\n",
    "%matplotlib inline"
   ]
  },
  {
   "cell_type": "code",
   "execution_count": 29,
   "metadata": {},
   "outputs": [],
   "source": [
    "n = 10\n",
    "p = 0.5\n",
    "k=np.arange(0,11)\n",
    "binomial = stats.binom.pmf(k,n,p)\n",
    "cumulative = stats.binom.cdf(k,n,p)"
   ]
  },
  {
   "cell_type": "code",
   "execution_count": 30,
   "metadata": {},
   "outputs": [
    {
     "data": {
      "text/plain": [
       "array([0.00097656, 0.00976563, 0.04394531, 0.1171875 , 0.20507813,\n",
       "       0.24609375, 0.20507813, 0.1171875 , 0.04394531, 0.00976563,\n",
       "       0.00097656])"
      ]
     },
     "execution_count": 30,
     "metadata": {},
     "output_type": "execute_result"
    }
   ],
   "source": [
    "binomial"
   ]
  },
  {
   "cell_type": "code",
   "execution_count": 31,
   "metadata": {},
   "outputs": [
    {
     "data": {
      "text/plain": [
       "array([9.76562500e-04, 1.07421875e-02, 5.46875000e-02, 1.71875000e-01,\n",
       "       3.76953125e-01, 6.23046875e-01, 8.28125000e-01, 9.45312500e-01,\n",
       "       9.89257812e-01, 9.99023438e-01, 1.00000000e+00])"
      ]
     },
     "execution_count": 31,
     "metadata": {},
     "output_type": "execute_result"
    }
   ],
   "source": [
    "cumulative"
   ]
  },
  {
   "cell_type": "code",
   "execution_count": 33,
   "metadata": {},
   "outputs": [
    {
     "data": {
      "text/plain": [
       "0.0546875"
      ]
     },
     "execution_count": 33,
     "metadata": {},
     "output_type": "execute_result"
    }
   ],
   "source": [
    "np.sum(binomial[8:])"
   ]
  },
  {
   "cell_type": "code",
   "execution_count": 35,
   "metadata": {},
   "outputs": [
    {
     "data": {
      "text/plain": [
       "0.0546875"
      ]
     },
     "execution_count": 35,
     "metadata": {},
     "output_type": "execute_result"
    }
   ],
   "source": [
    "1-np.sum(cumulative[7])"
   ]
  },
  {
   "cell_type": "markdown",
   "metadata": {},
   "source": [
    "# 2. The probability that you will win a certain game is 0.3. You play the game 20 times. What is the mean of this binomial distribution?"
   ]
  },
  {
   "cell_type": "code",
   "execution_count": 49,
   "metadata": {},
   "outputs": [],
   "source": [
    "p = 0.3\n",
    "n = 20\n",
    "k = np.arange(0,21)\n",
    "\n",
    "binomial = stats.binom.pmf(k, n, p)\n",
    "mean = stats.binom.mean(n, p, loc=0)"
   ]
  },
  {
   "cell_type": "code",
   "execution_count": 51,
   "metadata": {},
   "outputs": [
    {
     "data": {
      "text/plain": [
       "6.0"
      ]
     },
     "execution_count": 51,
     "metadata": {},
     "output_type": "execute_result"
    }
   ],
   "source": [
    "mean"
   ]
  },
  {
   "cell_type": "code",
   "execution_count": 55,
   "metadata": {},
   "outputs": [
    {
     "data": {
      "image/png": "[encoded data removed]",
      "text/plain": [
       "<Figure size 432x288 with 1 Axes>"
      ]
     },
     "metadata": {
      "needs_background": "light"
     },
     "output_type": "display_data"
    }
   ],
   "source": [
    "plt.plot(binomial);"
   ]
  },
  {
   "cell_type": "code",
   "execution_count": 59,
   "metadata": {},
   "outputs": [
    {
     "data": {
      "text/plain": [
       "0.19163898275344177"
      ]
     },
     "execution_count": 59,
     "metadata": {},
     "output_type": "execute_result"
    }
   ],
   "source": [
    "binomial[6]"
   ]
  },
  {
   "cell_type": "markdown",
   "metadata": {},
   "source": [
    "# 3. An automatic camera records the number of cars running a red light at an intersection (that is, the cars were going through when the red light was against the car). Analysis of the data shows that on average 15% of light changes record a car running a red light. Assume that the data has a binomial distribution. What is theprobability that in 20 light changes there will be exactly three (3) cars running a red light?"
   ]
  },
  {
   "cell_type": "code",
   "execution_count": 60,
   "metadata": {},
   "outputs": [],
   "source": [
    "p = 0.15 # Car running recorded\n",
    "n = 20\n",
    "k = 3\n",
    "binomial = stats.binom.pmf(k, n, p)"
   ]
  },
  {
   "cell_type": "code",
   "execution_count": 68,
   "metadata": {},
   "outputs": [
    {
     "name": "stdout",
     "output_type": "stream",
     "text": [
      "The probability of getting 3 cars for 20 light changes is 0.243\n"
     ]
    }
   ],
   "source": [
    "print (\"The probability of getting %i cars for %i light changes is %0.3f\" % (k,n,binomial))"
   ]
  },
  {
   "cell_type": "markdown",
   "metadata": {},
   "source": [
    "# 4. There are 15 sets of traffic lights on the journey.The probability that a driver must stop at any one traffic light coming to alliance University is 0.3  \n",
    "\n",
    "a) What is the probability that a student must stop at exactly 2 of the 15 sets oftraffic lights? \n",
    "\n",
    "b) What is the probability that a student will be stopped at 1 or more of the 15sets of traffic lights? "
   ]
  },
  {
   "cell_type": "code",
   "execution_count": null,
   "metadata": {},
   "outputs": [],
   "source": [
    "p = 0.3\n",
    "n = 15\n",
    "k = 2\n",
    "binomial = stats.binom.pmf(k, n, p)\n",
    "print (\"The probability that student must stop at \" % (k,n,binomial))"
   ]
  },
  {
   "cell_type": "markdown",
   "metadata": {},
   "source": [
    "# 5. What is the area under the curve of a probability distribution? Explain."
   ]
  },
  {
   "cell_type": "code",
   "execution_count": null,
   "metadata": {},
   "outputs": [],
   "source": []
  },
  {
   "cell_type": "markdown",
   "metadata": {},
   "source": [
    "# 6. My Bank has a large Credit Card portfolio. Based on empirical data, they have found that 60% of the customers pay their bill on time. If a sample of 10 accounts is selected from the current database, construct the Probability Distribution of accounts paying on time.\n",
    "Hint: Make use of Function used in Excel or R"
   ]
  },
  {
   "cell_type": "code",
   "execution_count": 69,
   "metadata": {},
   "outputs": [
    {
     "data": {
      "image/png": "[encoded data removed]",
      "text/plain": [
       "<Figure size 432x288 with 1 Axes>"
      ]
     },
     "metadata": {
      "needs_background": "light"
     },
     "output_type": "display_data"
    }
   ],
   "source": [
    "p = 0.6\n",
    "n = 10\n",
    "k = np.arange(0,11)\n",
    "binomial = stats.binom.pmf(k, n, p)\n",
    "plt.plot(binomial);"
   ]
  },
  {
   "cell_type": "markdown",
   "metadata": {},
   "source": [
    "# 7. If the likelihood of a tagged order form is 0.1, What is the probability that there are three tagged order forms in the sample of four?\n",
    "Hint: Use Binomial distribution equation"
   ]
  },
  {
   "cell_type": "code",
   "execution_count": 72,
   "metadata": {},
   "outputs": [
    {
     "name": "stdout",
     "output_type": "stream",
     "text": [
      "Ans:0.003600\n"
     ]
    }
   ],
   "source": [
    "p = 0.1\n",
    "n = 4\n",
    "k = 3\n",
    "binomial = stats.binom.pmf(k, n, p)\n",
    "print (\"Ans:%.6f\" % binomial)"
   ]
  },
  {
   "cell_type": "markdown",
   "metadata": {},
   "source": [
    "# 8. Determine the following:\n",
    "\n",
    "a) For n = 4 and p = 0.12, what is P(X = 0)?\n",
    "\n",
    "b) For n = 6 and p = 0.83, what is P(X = 5)?"
   ]
  },
  {
   "cell_type": "code",
   "execution_count": 74,
   "metadata": {},
   "outputs": [
    {
     "name": "stdout",
     "output_type": "stream",
     "text": [
      "Ans1:0.60\n",
      "Ans2:0.40\n"
     ]
    }
   ],
   "source": [
    "p1 = 0.12; p2 = 0.83\n",
    "n1 = 4; n2 = 6\n",
    "k1 = 0; k2 = 5\n",
    "b1 = stats.binom.pmf(k1, n1, p1)\n",
    "b2 = stats.binom.pmf(k2, n2, p2)\n",
    "print (\"Ans1:%.2f\" % b1)\n",
    "print (\"Ans2:%.2f\" % b2)"
   ]
  },
  {
   "cell_type": "markdown",
   "metadata": {},
   "source": [
    "# 9.Determine the mean and standard deviation of the variable X in each of the following binomial distributions:\n",
    "\n",
    "a) n = 4 and p = 0.10\n",
    "\n",
    "b) n = 5 and p = 0.80"
   ]
  },
  {
   "cell_type": "code",
   "execution_count": 78,
   "metadata": {},
   "outputs": [
    {
     "name": "stdout",
     "output_type": "stream",
     "text": [
      "mean:0.40, std:0.60\n",
      "mean:4.00, std:0.89\n"
     ]
    }
   ],
   "source": [
    "p1 = 0.1; p2 = 0.8\n",
    "n1 = 4; n2 = 5\n",
    "\n",
    "m1 = stats.binom.mean(n1, p1)\n",
    "m2 = stats.binom.mean(n2, p2)\n",
    "\n",
    "std1 = stats.binom.std(n1, p1)\n",
    "std2 = stats.binom.std(n2, p2)\n",
    "\n",
    "print (\"mean:%.2f, std:%.2f\" % (m1, std1))\n",
    "print (\"mean:%.2f, std:%.2f\" % (m2, std2))"
   ]
  },
  {
   "cell_type": "markdown",
   "metadata": {},
   "source": [
    "# 10. Assume a poisson distribution with lambda = 5.0. What is the probability that\n",
    "a) X <= 1?\n",
    "\n",
    "b) X > 1?"
   ]
  },
  {
   "cell_type": "code",
   "execution_count": 86,
   "metadata": {},
   "outputs": [
    {
     "name": "stdout",
     "output_type": "stream",
     "text": [
      "Ans:0.040428\n"
     ]
    }
   ],
   "source": [
    "mu = 5.0\n",
    "k = 1\n",
    "pois = stats.poisson.cdf(k, mu)\n",
    "print (\"Ans:%.6f\" % pois)"
   ]
  },
  {
   "cell_type": "code",
   "execution_count": 87,
   "metadata": {},
   "outputs": [
    {
     "name": "stdout",
     "output_type": "stream",
     "text": [
      "Ans:0.959572\n"
     ]
    }
   ],
   "source": [
    "mu = 5.0\n",
    "k = 1\n",
    "pois = 1 - stats.poisson.cdf(k, mu)\n",
    "print (\"Ans:%.6f\" % pois)"
   ]
  },
  {
   "cell_type": "code",
   "execution_count": 88,
   "metadata": {},
   "outputs": [
    {
     "name": "stdout",
     "output_type": "stream",
     "text": [
      "Ans:0.040428\n"
     ]
    }
   ],
   "source": [
    "mu = 5.0\n",
    "pois = stats.poisson.pmf(0, mu) + stats.poisson.pmf(1, mu)\n",
    "print (\"Ans:%.6f\" % pois)"
   ]
  },
  {
   "cell_type": "code",
   "execution_count": 89,
   "metadata": {},
   "outputs": [
    {
     "name": "stdout",
     "output_type": "stream",
     "text": [
      "Ans:0.959572\n"
     ]
    }
   ],
   "source": [
    "mu = 5.0\n",
    "pois = 1 - (stats.poisson.pmf(0, mu) + stats.poisson.pmf(1, mu))\n",
    "print (\"Ans:%.6f\" % pois)"
   ]
  },
  {
   "cell_type": "markdown",
   "metadata": {},
   "source": [
    "# 11. The number of work related injuries per month in a manufacturing plant is known to follow a Poisson distribution, with a mean of 2.5 work-related injuries a month.\n",
    "\n",
    "a) What is the probability that in a given month, no work-related injuries occur?\n",
    "\n",
    "b) That at least one work- related injury occurs?\n",
    "\n",
    "Hint: Use Poisson distribution equation, find X = 0, Given lambda = 2.5"
   ]
  },
  {
   "cell_type": "code",
   "execution_count": 92,
   "metadata": {},
   "outputs": [
    {
     "name": "stdout",
     "output_type": "stream",
     "text": [
      "Ans:0.082085\n"
     ]
    }
   ],
   "source": [
    "mu = 2.5\n",
    "k = 0\n",
    "pois = stats.poisson.pmf(k, mu)\n",
    "print (\"Ans:%.6f\" % pois)"
   ]
  },
  {
   "cell_type": "code",
   "execution_count": 93,
   "metadata": {},
   "outputs": [
    {
     "name": "stdout",
     "output_type": "stream",
     "text": [
      "Ans:0.917915\n"
     ]
    }
   ],
   "source": [
    "mu = 2.5\n",
    "k = 0\n",
    "pois = 1 - stats.poisson.cdf(k, mu)\n",
    "print (\"Ans:%.6f\" % pois)"
   ]
  },
  {
   "cell_type": "markdown",
   "metadata": {},
   "source": [
    "# 12. A 5-litre bucket of water is taken from a swamp. The water contains 75 mosquito larvae. A 200mL flask of water is taken form the bucket for further analysis. What is\n",
    "\n",
    "a) the expected number of larvae in the flask?\n",
    "\n",
    "b) the probability that the flask contains at least one mosquito lava?"
   ]
  },
  {
   "cell_type": "code",
   "execution_count": 97,
   "metadata": {},
   "outputs": [
    {
     "name": "stdout",
     "output_type": "stream",
     "text": [
      "Ans:3\n",
      "Ans:0.95\n"
     ]
    }
   ],
   "source": [
    "mu = E = (75/5)*0.2\n",
    "k = 0\n",
    "pois = 1 - stats.poisson.cdf(k, mu)\n",
    "print (\"Ans:%i\" % E)\n",
    "print (\"Ans:%.2f\" % pois)"
   ]
  },
  {
   "cell_type": "markdown",
   "metadata": {},
   "source": [
    "# 13. Why the need of Standardization? Why do we us Z instead of “the Number of Standard Deviations”?"
   ]
  },
  {
   "cell_type": "code",
   "execution_count": null,
   "metadata": {},
   "outputs": [],
   "source": []
  },
  {
   "cell_type": "markdown",
   "metadata": {},
   "source": [
    "# 14. A radar unit is used to measure speeds of cars on a Mumbai – Pune Highway. The speeds are normally distributed with a mean of 70 km/hr and a standard deviation of 10 km/hr.\n",
    "\n",
    "a)What is the probability that a car picked at random is travelling at more than 100 km/hr?\n",
    "\n",
    "b)What is the probability that the car speed is between 80 Km / hr and 100 Km / hr\n",
    "\n",
    "Hint: You can make use of Excel"
   ]
  },
  {
   "cell_type": "code",
   "execution_count": 100,
   "metadata": {},
   "outputs": [
    {
     "name": "stdout",
     "output_type": "stream",
     "text": [
      "Ans: 0.001350\n",
      "Ans: 0.157305\n"
     ]
    }
   ],
   "source": [
    "norm = 1 - stats.norm.cdf(100, loc=70, scale=10)\n",
    "print (\"Ans: %.6f\" %norm)\n",
    "norm = stats.norm.cdf(100, loc=70, scale=10) - stats.norm.cdf(80, loc=70, scale=10)\n",
    "print (\"Ans: %.6f\" %norm)"
   ]
  },
  {
   "cell_type": "code",
   "execution_count": 101,
   "metadata": {},
   "outputs": [
    {
     "name": "stdout",
     "output_type": "stream",
     "text": [
      "Ans: 0.001350\n",
      "Ans: 0.157305\n"
     ]
    }
   ],
   "source": [
    "z1 = (100-70)/10\n",
    "norm = 1 - stats.norm.cdf(z1)\n",
    "print (\"Ans: %.6f\" %norm)\n",
    "z2 = (80-70)/10\n",
    "norm = stats.norm.cdf(z1) - stats.norm.cdf(z2)\n",
    "print (\"Ans: %.6f\" %norm)"
   ]
  },
  {
   "cell_type": "markdown",
   "metadata": {},
   "source": [
    "# 15. The percentage of orders filled correctly at Wendy's was approximately 86.8%. Suppose that you go to drive-through window at Wendy's and place an order. Two friends of yours independently place orders at the drive-through window at the same Wendy's.\n",
    "\n",
    "What are the probabilities that\n",
    "\n",
    "a) all three filled correctly?\n",
    "\n",
    "b) none of the three filled correctly?\n",
    "\n",
    "c) atleast two of the three orders will be filled correctly?\n",
    "\n",
    "d) what is the mean and standard deviation of the orders filled correctly?"
   ]
  },
  {
   "cell_type": "code",
   "execution_count": 114,
   "metadata": {},
   "outputs": [
    {
     "name": "stdout",
     "output_type": "stream",
     "text": [
      "Ans : 0.653972\n",
      "Ans : 0.002300\n"
     ]
    }
   ],
   "source": [
    "p = 0.868\n",
    "p3 = p**3\n",
    "print (\"Ans : %0.6f\" %p3)\n",
    "p0 = (1 - p)**3\n",
    "print (\"Ans : %0.6f\" %p0)"
   ]
  },
  {
   "cell_type": "code",
   "execution_count": 109,
   "metadata": {},
   "outputs": [
    {
     "name": "stdout",
     "output_type": "stream",
     "text": [
      "Ans:0.653972\n"
     ]
    }
   ],
   "source": [
    "p = 0.868\n",
    "n = 3\n",
    "k = 3\n",
    "binomial = stats.binom.pmf(k, n, p)\n",
    "print (\"Ans:%.6f\" % binomial)"
   ]
  },
  {
   "cell_type": "code",
   "execution_count": 110,
   "metadata": {},
   "outputs": [
    {
     "name": "stdout",
     "output_type": "stream",
     "text": [
      "Ans:0.002300\n"
     ]
    }
   ],
   "source": [
    "p = 0.868\n",
    "n = 3\n",
    "k = 0\n",
    "binomial = stats.binom.pmf(k, n, p)\n",
    "print (\"Ans:%.6f\" % binomial)"
   ]
  },
  {
   "cell_type": "code",
   "execution_count": 111,
   "metadata": {},
   "outputs": [
    {
     "name": "stdout",
     "output_type": "stream",
     "text": [
      "Ans:0.952328\n"
     ]
    }
   ],
   "source": [
    "p = 0.868\n",
    "n = 3\n",
    "k = 1\n",
    "binomial = 1 - stats.binom.cdf(k, n, p)\n",
    "print (\"Ans:%.6f\" % binomial)"
   ]
  },
  {
   "cell_type": "code",
   "execution_count": 113,
   "metadata": {},
   "outputs": [
    {
     "name": "stdout",
     "output_type": "stream",
     "text": [
      "Mean: 2.604 Std: 0.5862832080146932\n"
     ]
    }
   ],
   "source": [
    "mean = stats.binom.mean(n, p)\n",
    "std = stats.binom.std(n, p)\n",
    "print (\"Mean:\", mean, \"Std:\", std)"
   ]
  },
  {
   "cell_type": "code",
   "execution_count": null,
   "metadata": {},
   "outputs": [],
   "source": []
  }
 ],
 "metadata": {
  "kernelspec": {
   "display_name": "Python [conda env:root] *",
   "language": "python",
   "name": "conda-root-py"
  },
  "language_info": {
   "codemirror_mode": {
    "name": "ipython",
    "version": 3
   },
   "file_extension": ".py",
   "mimetype": "text/x-python",
   "name": "python",
   "nbconvert_exporter": "python",
   "pygments_lexer": "ipython3",
   "version": "3.8.3"
  }
 },
 "nbformat": 4,
 "nbformat_minor": 4
}
