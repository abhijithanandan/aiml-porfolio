{
 "cells": [
  {
   "cell_type": "code",
   "execution_count": 2,
   "metadata": {},
   "outputs": [],
   "source": [
    "import numpy as np\n",
    "import scipy.stats as stats\n",
    "import matplotlib.pyplot as plt\n",
    "\n",
    "%matplotlib inline"
   ]
  },
  {
   "cell_type": "markdown",
   "metadata": {},
   "source": [
    "# Binomial"
   ]
  },
  {
   "cell_type": "code",
   "execution_count": 4,
   "metadata": {},
   "outputs": [
    {
     "name": "stdout",
     "output_type": "stream",
     "text": [
      "pmf:0.653972, cdf:0.653972, mean:2.604000, std:0.586283, 1-cdf:0.346028\n"
     ]
    }
   ],
   "source": [
    "p = 0.868\n",
    "n = 3\n",
    "k = 3\n",
    "pmf = stats.binom.pmf(k, n, p)\n",
    "cdf = stats.binom.cdf(k, n, p)\n",
    "mean = stats.binom.mean(n, p)\n",
    "std = stats.binom.std(n, p)\n",
    "cdf_inv = 1 - stats.binom.cdf(k, n, p)\n",
    "print (\"pmf:%f, cdf:%f, mean:%f, std:%f, 1-cdf:%f\" % (pmf, cdf, mean, std, cdf_inv))"
   ]
  },
  {
   "cell_type": "markdown",
   "metadata": {},
   "source": [
    "# Poisson"
   ]
  },
  {
   "cell_type": "code",
   "execution_count": 5,
   "metadata": {},
   "outputs": [
    {
     "name": "stdout",
     "output_type": "stream",
     "text": [
      "pmf:0.033690, cdf:0.033690, mean:5.000000, std:2.236068, 1-cdf:0.966310\n"
     ]
    }
   ],
   "source": [
    "mu = 5\n",
    "k = 1\n",
    "pmf = stats.poisson.pmf(k, mu)\n",
    "cdf = stats.poisson.cdf(k, mu)\n",
    "mean = stats.poisson.mean(mu)\n",
    "std = stats.poisson.std(mu)\n",
    "cdf_inv = 1 - stats.poisson.cdf(k, mu)\n",
    "print (\"pmf:%f, cdf:%f, mean:%f, std:%f, 1-cdf:%f\" % (pmf, cdf, mean, std, cdf_inv))"
   ]
  },
  {
   "cell_type": "markdown",
   "metadata": {},
   "source": [
    "# Normal"
   ]
  },
  {
   "cell_type": "code",
   "execution_count": 10,
   "metadata": {},
   "outputs": [
    {
     "name": "stdout",
     "output_type": "stream",
     "text": [
      "pmf:0.024197, cdf:0.841345, mean:70.000000, std:10.000000, 1-cdf:0.158655\n"
     ]
    }
   ],
   "source": [
    "x = 80\n",
    "l = 70\n",
    "s = 10\n",
    "pdf = stats.norm.pdf(x, loc=l, scale=s)\n",
    "cdf = stats.norm.cdf(x, loc=l, scale=s)\n",
    "mean = l\n",
    "std = s\n",
    "cdf_inv = 1 - stats.norm.cdf(x, loc=l, scale=s)\n",
    "print (\"pmf:%f, cdf:%f, mean:%f, std:%f, 1-cdf:%f\" % (pdf, cdf, mean, std, cdf_inv))"
   ]
  },
  {
   "cell_type": "code",
   "execution_count": 9,
   "metadata": {},
   "outputs": [
    {
     "data": {
      "text/plain": [
       "0.9772498680518208"
      ]
     },
     "execution_count": 9,
     "metadata": {},
     "output_type": "execute_result"
    }
   ],
   "source": [
    "stats.norm.cdf(2)"
   ]
  },
  {
   "cell_type": "code",
   "execution_count": null,
   "metadata": {},
   "outputs": [],
   "source": []
  }
 ],
 "metadata": {
  "kernelspec": {
   "display_name": "Python [conda env:root] *",
   "language": "python",
   "name": "conda-root-py"
  },
  "language_info": {
   "codemirror_mode": {
    "name": "ipython",
    "version": 3
   },
   "file_extension": ".py",
   "mimetype": "text/x-python",
   "name": "python",
   "nbconvert_exporter": "python",
   "pygments_lexer": "ipython3",
   "version": "3.8.3"
  }
 },
 "nbformat": 4,
 "nbformat_minor": 4
}
